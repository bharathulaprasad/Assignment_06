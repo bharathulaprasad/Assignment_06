{
  "nbformat": 4,
  "nbformat_minor": 0,
  "metadata": {
    "colab": {
      "name": "Assignment_06.ipynb",
      "provenance": [],
      "collapsed_sections": [],
      "authorship_tag": "ABX9TyNzApe/16Y+t9LFg0vUup4L",
      "include_colab_link": true
    },
    "kernelspec": {
      "name": "python3",
      "display_name": "Python 3"
    }
  },
  "cells": [
    {
      "cell_type": "markdown",
      "metadata": {
        "id": "view-in-github",
        "colab_type": "text"
      },
      "source": [
        "<a href=\"https://colab.research.google.com/github/bharathulaprasad/Assignment_06/blob/main/Assignment_06.ipynb\" target=\"_parent\"><img src=\"https://colab.research.google.com/assets/colab-badge.svg\" alt=\"Open In Colab\"/></a>"
      ]
    },
    {
      "cell_type": "code",
      "metadata": {
        "colab": {
          "base_uri": "https://localhost:8080/",
          "height": 609
        },
        "id": "PDycbJoRfo8h",
        "outputId": "5ade5fd5-8048-4b81-8ab5-64c5de2df21c"
      },
      "source": [
        "import numpy as np # linear algebra\r\n",
        "import pandas as pd # data processing\r\n",
        "from sklearn.linear_model import LogisticRegression\r\n",
        "from sklearn.datasets import load_breast_cancer\r\n",
        "cancerdata = load_breast_cancer()\r\n",
        "print(cancerdata.feature_names)\r\n",
        "print(cancerdata.target_names)\r\n",
        "cancerdata.data.shape\r\n",
        "can = pd.DataFrame(cancerdata.data)\r\n",
        "can"
      ],
      "execution_count": 98,
      "outputs": [
        {
          "output_type": "stream",
          "text": [
            "['mean radius' 'mean texture' 'mean perimeter' 'mean area'\n",
            " 'mean smoothness' 'mean compactness' 'mean concavity'\n",
            " 'mean concave points' 'mean symmetry' 'mean fractal dimension'\n",
            " 'radius error' 'texture error' 'perimeter error' 'area error'\n",
            " 'smoothness error' 'compactness error' 'concavity error'\n",
            " 'concave points error' 'symmetry error' 'fractal dimension error'\n",
            " 'worst radius' 'worst texture' 'worst perimeter' 'worst area'\n",
            " 'worst smoothness' 'worst compactness' 'worst concavity'\n",
            " 'worst concave points' 'worst symmetry' 'worst fractal dimension']\n",
            "['malignant' 'benign']\n"
          ],
          "name": "stdout"
        },
        {
          "output_type": "execute_result",
          "data": {
            "text/html": [
              "<div>\n",
              "<style scoped>\n",
              "    .dataframe tbody tr th:only-of-type {\n",
              "        vertical-align: middle;\n",
              "    }\n",
              "\n",
              "    .dataframe tbody tr th {\n",
              "        vertical-align: top;\n",
              "    }\n",
              "\n",
              "    .dataframe thead th {\n",
              "        text-align: right;\n",
              "    }\n",
              "</style>\n",
              "<table border=\"1\" class=\"dataframe\">\n",
              "  <thead>\n",
              "    <tr style=\"text-align: right;\">\n",
              "      <th></th>\n",
              "      <th>0</th>\n",
              "      <th>1</th>\n",
              "      <th>2</th>\n",
              "      <th>3</th>\n",
              "      <th>4</th>\n",
              "      <th>5</th>\n",
              "      <th>6</th>\n",
              "      <th>7</th>\n",
              "      <th>8</th>\n",
              "      <th>9</th>\n",
              "      <th>10</th>\n",
              "      <th>11</th>\n",
              "      <th>12</th>\n",
              "      <th>13</th>\n",
              "      <th>14</th>\n",
              "      <th>15</th>\n",
              "      <th>16</th>\n",
              "      <th>17</th>\n",
              "      <th>18</th>\n",
              "      <th>19</th>\n",
              "      <th>20</th>\n",
              "      <th>21</th>\n",
              "      <th>22</th>\n",
              "      <th>23</th>\n",
              "      <th>24</th>\n",
              "      <th>25</th>\n",
              "      <th>26</th>\n",
              "      <th>27</th>\n",
              "      <th>28</th>\n",
              "      <th>29</th>\n",
              "    </tr>\n",
              "  </thead>\n",
              "  <tbody>\n",
              "    <tr>\n",
              "      <th>0</th>\n",
              "      <td>17.99</td>\n",
              "      <td>10.38</td>\n",
              "      <td>122.80</td>\n",
              "      <td>1001.0</td>\n",
              "      <td>0.11840</td>\n",
              "      <td>0.27760</td>\n",
              "      <td>0.30010</td>\n",
              "      <td>0.14710</td>\n",
              "      <td>0.2419</td>\n",
              "      <td>0.07871</td>\n",
              "      <td>1.0950</td>\n",
              "      <td>0.9053</td>\n",
              "      <td>8.589</td>\n",
              "      <td>153.40</td>\n",
              "      <td>0.006399</td>\n",
              "      <td>0.04904</td>\n",
              "      <td>0.05373</td>\n",
              "      <td>0.01587</td>\n",
              "      <td>0.03003</td>\n",
              "      <td>0.006193</td>\n",
              "      <td>25.380</td>\n",
              "      <td>17.33</td>\n",
              "      <td>184.60</td>\n",
              "      <td>2019.0</td>\n",
              "      <td>0.16220</td>\n",
              "      <td>0.66560</td>\n",
              "      <td>0.7119</td>\n",
              "      <td>0.2654</td>\n",
              "      <td>0.4601</td>\n",
              "      <td>0.11890</td>\n",
              "    </tr>\n",
              "    <tr>\n",
              "      <th>1</th>\n",
              "      <td>20.57</td>\n",
              "      <td>17.77</td>\n",
              "      <td>132.90</td>\n",
              "      <td>1326.0</td>\n",
              "      <td>0.08474</td>\n",
              "      <td>0.07864</td>\n",
              "      <td>0.08690</td>\n",
              "      <td>0.07017</td>\n",
              "      <td>0.1812</td>\n",
              "      <td>0.05667</td>\n",
              "      <td>0.5435</td>\n",
              "      <td>0.7339</td>\n",
              "      <td>3.398</td>\n",
              "      <td>74.08</td>\n",
              "      <td>0.005225</td>\n",
              "      <td>0.01308</td>\n",
              "      <td>0.01860</td>\n",
              "      <td>0.01340</td>\n",
              "      <td>0.01389</td>\n",
              "      <td>0.003532</td>\n",
              "      <td>24.990</td>\n",
              "      <td>23.41</td>\n",
              "      <td>158.80</td>\n",
              "      <td>1956.0</td>\n",
              "      <td>0.12380</td>\n",
              "      <td>0.18660</td>\n",
              "      <td>0.2416</td>\n",
              "      <td>0.1860</td>\n",
              "      <td>0.2750</td>\n",
              "      <td>0.08902</td>\n",
              "    </tr>\n",
              "    <tr>\n",
              "      <th>2</th>\n",
              "      <td>19.69</td>\n",
              "      <td>21.25</td>\n",
              "      <td>130.00</td>\n",
              "      <td>1203.0</td>\n",
              "      <td>0.10960</td>\n",
              "      <td>0.15990</td>\n",
              "      <td>0.19740</td>\n",
              "      <td>0.12790</td>\n",
              "      <td>0.2069</td>\n",
              "      <td>0.05999</td>\n",
              "      <td>0.7456</td>\n",
              "      <td>0.7869</td>\n",
              "      <td>4.585</td>\n",
              "      <td>94.03</td>\n",
              "      <td>0.006150</td>\n",
              "      <td>0.04006</td>\n",
              "      <td>0.03832</td>\n",
              "      <td>0.02058</td>\n",
              "      <td>0.02250</td>\n",
              "      <td>0.004571</td>\n",
              "      <td>23.570</td>\n",
              "      <td>25.53</td>\n",
              "      <td>152.50</td>\n",
              "      <td>1709.0</td>\n",
              "      <td>0.14440</td>\n",
              "      <td>0.42450</td>\n",
              "      <td>0.4504</td>\n",
              "      <td>0.2430</td>\n",
              "      <td>0.3613</td>\n",
              "      <td>0.08758</td>\n",
              "    </tr>\n",
              "    <tr>\n",
              "      <th>3</th>\n",
              "      <td>11.42</td>\n",
              "      <td>20.38</td>\n",
              "      <td>77.58</td>\n",
              "      <td>386.1</td>\n",
              "      <td>0.14250</td>\n",
              "      <td>0.28390</td>\n",
              "      <td>0.24140</td>\n",
              "      <td>0.10520</td>\n",
              "      <td>0.2597</td>\n",
              "      <td>0.09744</td>\n",
              "      <td>0.4956</td>\n",
              "      <td>1.1560</td>\n",
              "      <td>3.445</td>\n",
              "      <td>27.23</td>\n",
              "      <td>0.009110</td>\n",
              "      <td>0.07458</td>\n",
              "      <td>0.05661</td>\n",
              "      <td>0.01867</td>\n",
              "      <td>0.05963</td>\n",
              "      <td>0.009208</td>\n",
              "      <td>14.910</td>\n",
              "      <td>26.50</td>\n",
              "      <td>98.87</td>\n",
              "      <td>567.7</td>\n",
              "      <td>0.20980</td>\n",
              "      <td>0.86630</td>\n",
              "      <td>0.6869</td>\n",
              "      <td>0.2575</td>\n",
              "      <td>0.6638</td>\n",
              "      <td>0.17300</td>\n",
              "    </tr>\n",
              "    <tr>\n",
              "      <th>4</th>\n",
              "      <td>20.29</td>\n",
              "      <td>14.34</td>\n",
              "      <td>135.10</td>\n",
              "      <td>1297.0</td>\n",
              "      <td>0.10030</td>\n",
              "      <td>0.13280</td>\n",
              "      <td>0.19800</td>\n",
              "      <td>0.10430</td>\n",
              "      <td>0.1809</td>\n",
              "      <td>0.05883</td>\n",
              "      <td>0.7572</td>\n",
              "      <td>0.7813</td>\n",
              "      <td>5.438</td>\n",
              "      <td>94.44</td>\n",
              "      <td>0.011490</td>\n",
              "      <td>0.02461</td>\n",
              "      <td>0.05688</td>\n",
              "      <td>0.01885</td>\n",
              "      <td>0.01756</td>\n",
              "      <td>0.005115</td>\n",
              "      <td>22.540</td>\n",
              "      <td>16.67</td>\n",
              "      <td>152.20</td>\n",
              "      <td>1575.0</td>\n",
              "      <td>0.13740</td>\n",
              "      <td>0.20500</td>\n",
              "      <td>0.4000</td>\n",
              "      <td>0.1625</td>\n",
              "      <td>0.2364</td>\n",
              "      <td>0.07678</td>\n",
              "    </tr>\n",
              "    <tr>\n",
              "      <th>...</th>\n",
              "      <td>...</td>\n",
              "      <td>...</td>\n",
              "      <td>...</td>\n",
              "      <td>...</td>\n",
              "      <td>...</td>\n",
              "      <td>...</td>\n",
              "      <td>...</td>\n",
              "      <td>...</td>\n",
              "      <td>...</td>\n",
              "      <td>...</td>\n",
              "      <td>...</td>\n",
              "      <td>...</td>\n",
              "      <td>...</td>\n",
              "      <td>...</td>\n",
              "      <td>...</td>\n",
              "      <td>...</td>\n",
              "      <td>...</td>\n",
              "      <td>...</td>\n",
              "      <td>...</td>\n",
              "      <td>...</td>\n",
              "      <td>...</td>\n",
              "      <td>...</td>\n",
              "      <td>...</td>\n",
              "      <td>...</td>\n",
              "      <td>...</td>\n",
              "      <td>...</td>\n",
              "      <td>...</td>\n",
              "      <td>...</td>\n",
              "      <td>...</td>\n",
              "      <td>...</td>\n",
              "    </tr>\n",
              "    <tr>\n",
              "      <th>564</th>\n",
              "      <td>21.56</td>\n",
              "      <td>22.39</td>\n",
              "      <td>142.00</td>\n",
              "      <td>1479.0</td>\n",
              "      <td>0.11100</td>\n",
              "      <td>0.11590</td>\n",
              "      <td>0.24390</td>\n",
              "      <td>0.13890</td>\n",
              "      <td>0.1726</td>\n",
              "      <td>0.05623</td>\n",
              "      <td>1.1760</td>\n",
              "      <td>1.2560</td>\n",
              "      <td>7.673</td>\n",
              "      <td>158.70</td>\n",
              "      <td>0.010300</td>\n",
              "      <td>0.02891</td>\n",
              "      <td>0.05198</td>\n",
              "      <td>0.02454</td>\n",
              "      <td>0.01114</td>\n",
              "      <td>0.004239</td>\n",
              "      <td>25.450</td>\n",
              "      <td>26.40</td>\n",
              "      <td>166.10</td>\n",
              "      <td>2027.0</td>\n",
              "      <td>0.14100</td>\n",
              "      <td>0.21130</td>\n",
              "      <td>0.4107</td>\n",
              "      <td>0.2216</td>\n",
              "      <td>0.2060</td>\n",
              "      <td>0.07115</td>\n",
              "    </tr>\n",
              "    <tr>\n",
              "      <th>565</th>\n",
              "      <td>20.13</td>\n",
              "      <td>28.25</td>\n",
              "      <td>131.20</td>\n",
              "      <td>1261.0</td>\n",
              "      <td>0.09780</td>\n",
              "      <td>0.10340</td>\n",
              "      <td>0.14400</td>\n",
              "      <td>0.09791</td>\n",
              "      <td>0.1752</td>\n",
              "      <td>0.05533</td>\n",
              "      <td>0.7655</td>\n",
              "      <td>2.4630</td>\n",
              "      <td>5.203</td>\n",
              "      <td>99.04</td>\n",
              "      <td>0.005769</td>\n",
              "      <td>0.02423</td>\n",
              "      <td>0.03950</td>\n",
              "      <td>0.01678</td>\n",
              "      <td>0.01898</td>\n",
              "      <td>0.002498</td>\n",
              "      <td>23.690</td>\n",
              "      <td>38.25</td>\n",
              "      <td>155.00</td>\n",
              "      <td>1731.0</td>\n",
              "      <td>0.11660</td>\n",
              "      <td>0.19220</td>\n",
              "      <td>0.3215</td>\n",
              "      <td>0.1628</td>\n",
              "      <td>0.2572</td>\n",
              "      <td>0.06637</td>\n",
              "    </tr>\n",
              "    <tr>\n",
              "      <th>566</th>\n",
              "      <td>16.60</td>\n",
              "      <td>28.08</td>\n",
              "      <td>108.30</td>\n",
              "      <td>858.1</td>\n",
              "      <td>0.08455</td>\n",
              "      <td>0.10230</td>\n",
              "      <td>0.09251</td>\n",
              "      <td>0.05302</td>\n",
              "      <td>0.1590</td>\n",
              "      <td>0.05648</td>\n",
              "      <td>0.4564</td>\n",
              "      <td>1.0750</td>\n",
              "      <td>3.425</td>\n",
              "      <td>48.55</td>\n",
              "      <td>0.005903</td>\n",
              "      <td>0.03731</td>\n",
              "      <td>0.04730</td>\n",
              "      <td>0.01557</td>\n",
              "      <td>0.01318</td>\n",
              "      <td>0.003892</td>\n",
              "      <td>18.980</td>\n",
              "      <td>34.12</td>\n",
              "      <td>126.70</td>\n",
              "      <td>1124.0</td>\n",
              "      <td>0.11390</td>\n",
              "      <td>0.30940</td>\n",
              "      <td>0.3403</td>\n",
              "      <td>0.1418</td>\n",
              "      <td>0.2218</td>\n",
              "      <td>0.07820</td>\n",
              "    </tr>\n",
              "    <tr>\n",
              "      <th>567</th>\n",
              "      <td>20.60</td>\n",
              "      <td>29.33</td>\n",
              "      <td>140.10</td>\n",
              "      <td>1265.0</td>\n",
              "      <td>0.11780</td>\n",
              "      <td>0.27700</td>\n",
              "      <td>0.35140</td>\n",
              "      <td>0.15200</td>\n",
              "      <td>0.2397</td>\n",
              "      <td>0.07016</td>\n",
              "      <td>0.7260</td>\n",
              "      <td>1.5950</td>\n",
              "      <td>5.772</td>\n",
              "      <td>86.22</td>\n",
              "      <td>0.006522</td>\n",
              "      <td>0.06158</td>\n",
              "      <td>0.07117</td>\n",
              "      <td>0.01664</td>\n",
              "      <td>0.02324</td>\n",
              "      <td>0.006185</td>\n",
              "      <td>25.740</td>\n",
              "      <td>39.42</td>\n",
              "      <td>184.60</td>\n",
              "      <td>1821.0</td>\n",
              "      <td>0.16500</td>\n",
              "      <td>0.86810</td>\n",
              "      <td>0.9387</td>\n",
              "      <td>0.2650</td>\n",
              "      <td>0.4087</td>\n",
              "      <td>0.12400</td>\n",
              "    </tr>\n",
              "    <tr>\n",
              "      <th>568</th>\n",
              "      <td>7.76</td>\n",
              "      <td>24.54</td>\n",
              "      <td>47.92</td>\n",
              "      <td>181.0</td>\n",
              "      <td>0.05263</td>\n",
              "      <td>0.04362</td>\n",
              "      <td>0.00000</td>\n",
              "      <td>0.00000</td>\n",
              "      <td>0.1587</td>\n",
              "      <td>0.05884</td>\n",
              "      <td>0.3857</td>\n",
              "      <td>1.4280</td>\n",
              "      <td>2.548</td>\n",
              "      <td>19.15</td>\n",
              "      <td>0.007189</td>\n",
              "      <td>0.00466</td>\n",
              "      <td>0.00000</td>\n",
              "      <td>0.00000</td>\n",
              "      <td>0.02676</td>\n",
              "      <td>0.002783</td>\n",
              "      <td>9.456</td>\n",
              "      <td>30.37</td>\n",
              "      <td>59.16</td>\n",
              "      <td>268.6</td>\n",
              "      <td>0.08996</td>\n",
              "      <td>0.06444</td>\n",
              "      <td>0.0000</td>\n",
              "      <td>0.0000</td>\n",
              "      <td>0.2871</td>\n",
              "      <td>0.07039</td>\n",
              "    </tr>\n",
              "  </tbody>\n",
              "</table>\n",
              "<p>569 rows × 30 columns</p>\n",
              "</div>"
            ],
            "text/plain": [
              "        0      1       2       3   ...      26      27      28       29\n",
              "0    17.99  10.38  122.80  1001.0  ...  0.7119  0.2654  0.4601  0.11890\n",
              "1    20.57  17.77  132.90  1326.0  ...  0.2416  0.1860  0.2750  0.08902\n",
              "2    19.69  21.25  130.00  1203.0  ...  0.4504  0.2430  0.3613  0.08758\n",
              "3    11.42  20.38   77.58   386.1  ...  0.6869  0.2575  0.6638  0.17300\n",
              "4    20.29  14.34  135.10  1297.0  ...  0.4000  0.1625  0.2364  0.07678\n",
              "..     ...    ...     ...     ...  ...     ...     ...     ...      ...\n",
              "564  21.56  22.39  142.00  1479.0  ...  0.4107  0.2216  0.2060  0.07115\n",
              "565  20.13  28.25  131.20  1261.0  ...  0.3215  0.1628  0.2572  0.06637\n",
              "566  16.60  28.08  108.30   858.1  ...  0.3403  0.1418  0.2218  0.07820\n",
              "567  20.60  29.33  140.10  1265.0  ...  0.9387  0.2650  0.4087  0.12400\n",
              "568   7.76  24.54   47.92   181.0  ...  0.0000  0.0000  0.2871  0.07039\n",
              "\n",
              "[569 rows x 30 columns]"
            ]
          },
          "metadata": {
            "tags": []
          },
          "execution_count": 98
        }
      ]
    },
    {
      "cell_type": "code",
      "metadata": {
        "colab": {
          "base_uri": "https://localhost:8080/"
        },
        "id": "kZW7PIIQhbcs",
        "outputId": "bece10a8-ca7c-4f15-9d6b-2c7b9199d6bd"
      },
      "source": [
        "can = pd.DataFrame(cancerdata.data)\r\n",
        "can.columns=cancerdata.feature_names\r\n",
        "can.head()\r\n",
        "can.describe\r\n",
        "print(\"No of Nan in the whole dataset : %d\\n\" %np.sum(can.isnull().sum())) # => No Nan\r\n",
        "print(\"No of duplicated features in the whole dataset : %d\" %(can.transpose().drop_duplicates().transpose().shape[1] - can.shape[1])) # => No duplicated features"
      ],
      "execution_count": 99,
      "outputs": [
        {
          "output_type": "stream",
          "text": [
            "No of Nan in the whole dataset : 0\n",
            "\n",
            "No of duplicated features in the whole dataset : 0\n"
          ],
          "name": "stdout"
        }
      ]
    },
    {
      "cell_type": "code",
      "metadata": {
        "colab": {
          "base_uri": "https://localhost:8080/",
          "height": 381
        },
        "id": "9AGvWCKMowjC",
        "outputId": "dbed8450-212b-40cc-debd-152e0fdb02d1"
      },
      "source": [
        "from sklearn.model_selection import train_test_split\r\n",
        "from sklearn.metrics import accuracy_score, recall_score, roc_auc_score, confusion_matrix\r\n",
        "from sklearn.linear_model import LogisticRegression\r\n",
        "from sklearn.feature_selection import RFE\r\n",
        "from sklearn.metrics import confusion_matrix\r\n",
        "import matplotlib.pyplot as plt\r\n",
        "\r\n",
        "X, y = load_breast_cancer(return_X_y=True)\r\n",
        "X_train, X_test, y_train, y_test = train_test_split(X, y, \r\n",
        "                                                    train_size=0.10, \r\n",
        "                                                    test_size=0.90, random_state=0)\r\n",
        "logreg=LogisticRegression(max_iter=100000)\r\n",
        "\r\n",
        "\r\n",
        "logreg.fit(X_train,y_train)\r\n",
        "y_pred = logreg.predict(X_test)\r\n",
        "print('Accuracy of logistic regression classifier on test set: {:.2f}'.format(logreg.score(X_test, y_test)))\r\n",
        "confusion_matrix = confusion_matrix(y_test, y_pred)\r\n",
        "print(confusion_matrix)\r\n",
        "print(\"Train Accuracy:\",logreg.score(X_train, y_train))\r\n",
        "print(\"Test Accuracy:\",logreg.score(X_test, y_test))\r\n",
        "plt.plot(X, y)\r\n",
        "plt.xlabel('X')\r\n",
        "plt.ylabel('y')\r\n",
        "plt.legend()\r\n",
        "plt.show()\r\n",
        "\r\n",
        "\r\n"
      ],
      "execution_count": 117,
      "outputs": [
        {
          "output_type": "stream",
          "text": [
            "No handles with labels found to put in legend.\n"
          ],
          "name": "stderr"
        },
        {
          "output_type": "stream",
          "text": [
            "Accuracy of logistic regression classifier on test set: 0.95\n",
            "[[176  11]\n",
            " [ 16 310]]\n",
            "Train Accuracy: 0.9821428571428571\n",
            "Test Accuracy: 0.9473684210526315\n"
          ],
          "name": "stdout"
        },
        {
          "output_type": "display_data",
          "data": {
            "image/png": "[encoded data removed]",
            "text/plain": [
              "<Figure size 432x288 with 1 Axes>"
            ]
          },
          "metadata": {
            "tags": [],
            "needs_background": "light"
          }
        }
      ]
    },
    {
      "cell_type": "code",
      "metadata": {
        "colab": {
          "base_uri": "https://localhost:8080/",
          "height": 282
        },
        "id": "NMPF07HC0YBw",
        "outputId": "62da729d-7929-4c05-880e-f3f67ec19965"
      },
      "source": [
        "# Fit the data to a logistic regression model.\r\n",
        "from scipy.special import expit\r\n",
        "logreg = LogisticRegression(solver='lbfgs', C=1e5, max_iter=10000)\r\n",
        "logreg.fit(X_test, y_test)\r\n",
        "\r\n",
        "logreg.fit(X_test[:,0].reshape(-1,1), y_test)\r\n",
        "plt.scatter(X_test[:,0],y_test)\r\n",
        "\r\n",
        "sigmoid = expit(y_test)\r\n",
        "plt.plot(X_test,sigmoid.ravel(),c=\"green\")\r\n",
        "plt.yticks([0, 0.2, 0.4, 0.5, 0.6, 0.7, 1])\r\n",
        "plt.axhline(.5, color=\"red\", label=\"cutoff\")\r\n",
        "plt.legend(loc=\"lower right\")\r\n"
      ],
      "execution_count": 131,
      "outputs": [
        {
          "output_type": "execute_result",
          "data": {
            "text/plain": [
              "<matplotlib.legend.Legend at 0x7fad1a284850>"
            ]
          },
          "metadata": {
            "tags": []
          },
          "execution_count": 131
        },
        {
          "output_type": "display_data",
          "data": {
            "image/png": "[encoded data removed]",
            "text/plain": [
              "<Figure size 432x288 with 1 Axes>"
            ]
          },
          "metadata": {
            "tags": [],
            "needs_background": "light"
          }
        }
      ]
    },
    {
      "cell_type": "code",
      "metadata": {
        "colab": {
          "base_uri": "https://localhost:8080/",
          "height": 282
        },
        "id": "3iULQS3Z3rO9",
        "outputId": "cac7f6c6-231b-4478-95c3-310efbd6eaa4"
      },
      "source": [
        "# Fit the data to a logistic regression model.\r\n",
        "from scipy.special import expit\r\n",
        "logreg = LogisticRegression(solver='lbfgs', C=1e5, max_iter=10000)\r\n",
        "logreg.fit(X_train, y_train)\r\n",
        "\r\n",
        "logreg.fit(X_train[:,0].reshape(-1,1), y_train)\r\n",
        "plt.scatter(X_train[:,0],y_train)\r\n",
        "\r\n",
        "sigmoid = expit(y_train)\r\n",
        "plt.plot(X_train,sigmoid.ravel(),c=\"green\")\r\n",
        "plt.yticks([0, 0.2, 0.4, 0.5, 0.6, 0.7, 1])\r\n",
        "plt.axhline(.5, color=\"red\", label=\"cutoff\")\r\n",
        "plt.legend(loc=\"lower right\")\r\n"
      ],
      "execution_count": 133,
      "outputs": [
        {
          "output_type": "execute_result",
          "data": {
            "text/plain": [
              "<matplotlib.legend.Legend at 0x7fad1a158910>"
            ]
          },
          "metadata": {
            "tags": []
          },
          "execution_count": 133
        },
        {
          "output_type": "display_data",
          "data": {
            "image/png": "[encoded data removed]",
            "text/plain": [
              "<Figure size 432x288 with 1 Axes>"
            ]
          },
          "metadata": {
            "tags": [],
            "needs_background": "light"
          }
        }
      ]
    },
    {
      "cell_type": "code",
      "metadata": {
        "colab": {
          "base_uri": "https://localhost:8080/",
          "height": 282
        },
        "id": "MRfyQFEy4A1Q",
        "outputId": "f8be37ab-a064-45b7-db3e-c12713c4ee5f"
      },
      "source": [
        "# Fit the data to a logistic regression model.\r\n",
        "from scipy.special import expit\r\n",
        "logreg = LogisticRegression(solver='lbfgs', C=1e5, max_iter=10000)\r\n",
        "logreg.fit(X_train, y_train)\r\n",
        "\r\n",
        "logreg.fit(X_train[:,1].reshape(-1,1), y_train)\r\n",
        "plt.scatter(X_train[:,1],y_train)\r\n",
        "\r\n",
        "sigmoid = expit(y_train)\r\n",
        "plt.plot(X_train,sigmoid.ravel(),c=\"green\")\r\n",
        "plt.yticks([0, 0.2, 0.4, 0.5, 0.6, 0.7, 1])\r\n",
        "plt.axhline(.5, color=\"red\", label=\"\")\r\n",
        "plt.legend(loc=\"lower right\")"
      ],
      "execution_count": 135,
      "outputs": [
        {
          "output_type": "execute_result",
          "data": {
            "text/plain": [
              "<matplotlib.legend.Legend at 0x7fad1a033950>"
            ]
          },
          "metadata": {
            "tags": []
          },
          "execution_count": 135
        },
        {
          "output_type": "display_data",
          "data": {
            "image/png": "[encoded data removed]",
            "text/plain": [
              "<Figure size 432x288 with 1 Axes>"
            ]
          },
          "metadata": {
            "tags": [],
            "needs_background": "light"
          }
        }
      ]
    },
    {
      "cell_type": "code",
      "metadata": {
        "colab": {
          "base_uri": "https://localhost:8080/"
        },
        "id": "GeuUHWFYwXBd",
        "outputId": "16db984e-1945-4d87-d179-4f190293d90e"
      },
      "source": [
        "from sklearn.metrics import accuracy_score, recall_score, roc_auc_score, confusion_matrix\r\n",
        "\r\n",
        "X_train, X_test, y_train, y_test = train_test_split(X, y, \r\n",
        "                                                    train_size=0.20, \r\n",
        "                                                    test_size=0.80, random_state=0)\r\n",
        "logreg=LogisticRegression(max_iter=100000)\r\n",
        "\r\n",
        "from sklearn.metrics import accuracy_score, recall_score, roc_auc_score, confusion_matrix\r\n",
        "model=logreg.fit(X_train,y_train)\r\n",
        "logreg.fit(X_train,y_train)\r\n",
        "y_pred = logreg.predict(X_test)\r\n",
        "print('Accuracy of logistic regression classifier on test set: {:.2f}'.format(logreg.score(X_test, y_test)))\r\n",
        "confusion_matrix = confusion_matrix(y_test, y_pred)\r\n",
        "print(confusion_matrix)\r\n",
        "print(\"Train Accuracy:\",logreg.score(X_train, y_train))\r\n",
        "print(\"Test Accuracy:\",logreg.score(X_test, y_test))"
      ],
      "execution_count": 138,
      "outputs": [
        {
          "output_type": "stream",
          "text": [
            "Accuracy of logistic regression classifier on test set: 0.94\n",
            "[[157  12]\n",
            " [ 15 272]]\n",
            "Train Accuracy: 0.9911504424778761\n",
            "Test Accuracy: 0.9407894736842105\n"
          ],
          "name": "stdout"
        }
      ]
    },
    {
      "cell_type": "code",
      "metadata": {
        "colab": {
          "base_uri": "https://localhost:8080/"
        },
        "id": "F1zY5gKcwg_a",
        "outputId": "8f458b85-2c74-4008-ee5b-10eb899762e2"
      },
      "source": [
        "X_train, X_test, y_train, y_test = train_test_split(X, y, \r\n",
        "                                                    train_size=0.30, \r\n",
        "                                                    test_size=0.70, random_state=0)\r\n",
        "logreg=LogisticRegression(max_iter=100000)\r\n",
        "\r\n",
        "from sklearn.metrics import accuracy_score, recall_score, roc_auc_score, confusion_matrix\r\n",
        "model=logreg.fit(X_train,y_train)\r\n",
        "logreg.fit(X_train,y_train)\r\n",
        "y_pred = logreg.predict(X_test)\r\n",
        "print('Accuracy of logistic regression classifier on test set: {:.2f}'.format(logreg.score(X_test, y_test)))\r\n",
        "confusion_matrix = confusion_matrix(y_test, y_pred)\r\n",
        "model=logreg.fit(X_train,y_train)\r\n",
        "\r\n",
        "print(\"Train Accuracy:\",logreg.score(X_train, y_train))\r\n",
        "print(\"Test Accuracy:\",logreg.score(X_test, y_test))"
      ],
      "execution_count": 139,
      "outputs": [
        {
          "output_type": "stream",
          "text": [
            "Accuracy of logistic regression classifier on test set: 0.95\n",
            "Train Accuracy: 0.9764705882352941\n",
            "Test Accuracy: 0.9473684210526315\n"
          ],
          "name": "stdout"
        }
      ]
    },
    {
      "cell_type": "code",
      "metadata": {
        "colab": {
          "base_uri": "https://localhost:8080/"
        },
        "id": "mgGDjCtAwjdW",
        "outputId": "5b591604-ec48-4037-fccb-cca40a36a9bb"
      },
      "source": [
        "X_train, X_test, y_train, y_test = train_test_split(X, y, \r\n",
        "                                                    train_size=0.40, \r\n",
        "                                                    test_size=0.60, random_state=0)\r\n",
        "logreg=LogisticRegression(max_iter=100000)\r\n",
        "from sklearn.metrics import accuracy_score, recall_score, roc_auc_score, confusion_matrix\r\n",
        "model=logreg.fit(X_train,y_train)\r\n",
        "logreg.fit(X_train,y_train)\r\n",
        "y_pred = logreg.predict(X_test)\r\n",
        "print('Accuracy of logistic regression classifier on test set: {:.2f}'.format(logreg.score(X_test, y_test)))\r\n",
        "confusion_matrix = confusion_matrix(y_test, y_pred)\r\n",
        "\r\n",
        "model=logreg.fit(X_train,y_train)\r\n",
        "\r\n",
        "print(\"Train Accuracy:\",logreg.score(X_train, y_train))\r\n",
        "print(\"Test Accuracy:\",logreg.score(X_test, y_test))"
      ],
      "execution_count": 140,
      "outputs": [
        {
          "output_type": "stream",
          "text": [
            "Accuracy of logistic regression classifier on test set: 0.96\n",
            "Train Accuracy: 0.960352422907489\n",
            "Test Accuracy: 0.956140350877193\n"
          ],
          "name": "stdout"
        }
      ]
    },
    {
      "cell_type": "code",
      "metadata": {
        "colab": {
          "base_uri": "https://localhost:8080/"
        },
        "id": "xj1D4ABpwmEd",
        "outputId": "3e28b610-e36f-4456-8a70-e9ff664efc45"
      },
      "source": [
        "X_train, X_test, y_train, y_test = train_test_split(X, y, \r\n",
        "                                                    train_size=0.50, \r\n",
        "                                                    test_size=0.50, random_state=0)\r\n",
        "logreg=LogisticRegression(max_iter=100000)\r\n",
        "\r\n",
        "from sklearn.metrics import accuracy_score, recall_score, roc_auc_score, confusion_matrix\r\n",
        "model=logreg.fit(X_train,y_train)\r\n",
        "logreg.fit(X_train,y_train)\r\n",
        "y_pred = logreg.predict(X_test)\r\n",
        "print('Accuracy of logistic regression classifier on test set: {:.2f}'.format(logreg.score(X_test, y_test)))\r\n",
        "confusion_matrix = confusion_matrix(y_test, y_pred)\r\n",
        "model=logreg.fit(X_train,y_train)\r\n",
        "\r\n",
        "print(\"Train Accuracy:\",logreg.score(X_train, y_train))\r\n",
        "print(\"Test Accuracy:\",logreg.score(X_test, y_test))"
      ],
      "execution_count": 141,
      "outputs": [
        {
          "output_type": "stream",
          "text": [
            "Accuracy of logistic regression classifier on test set: 0.96\n",
            "Train Accuracy: 0.9612676056338029\n",
            "Test Accuracy: 0.9578947368421052\n"
          ],
          "name": "stdout"
        }
      ]
    },
    {
      "cell_type": "code",
      "metadata": {
        "colab": {
          "base_uri": "https://localhost:8080/"
        },
        "id": "RZ9AxdQZwoli",
        "outputId": "45c4eb6b-511e-4a80-978f-023ea343a2c8"
      },
      "source": [
        "X_train, X_test, y_train, y_test = train_test_split(X, y, \r\n",
        "                                                    train_size=0.60, \r\n",
        "                                                    test_size=0.40, random_state=0)\r\n",
        "logreg=LogisticRegression(max_iter=100000)\r\n",
        "from sklearn.metrics import accuracy_score, recall_score, roc_auc_score, confusion_matrix\r\n",
        "model=logreg.fit(X_train,y_train)\r\n",
        "logreg.fit(X_train,y_train)\r\n",
        "y_pred = logreg.predict(X_test)\r\n",
        "print('Accuracy of logistic regression classifier on test set: {:.2f}'.format(logreg.score(X_test, y_test)))\r\n",
        "confusion_matrix = confusion_matrix(y_test, y_pred)\r\n",
        "\r\n",
        "model=logreg.fit(X_train,y_train)\r\n",
        "\r\n",
        "print(\"Train Accuracy:\",logreg.score(X_train, y_train))\r\n",
        "print(\"Test Accuracy:\",logreg.score(X_test, y_test))"
      ],
      "execution_count": 142,
      "outputs": [
        {
          "output_type": "stream",
          "text": [
            "Accuracy of logistic regression classifier on test set: 0.97\n",
            "Train Accuracy: 0.9648093841642229\n",
            "Test Accuracy: 0.9692982456140351\n"
          ],
          "name": "stdout"
        }
      ]
    }
  ]
}