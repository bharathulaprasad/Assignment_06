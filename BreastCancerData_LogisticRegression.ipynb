{
  "nbformat": 4,
  "nbformat_minor": 0,
  "metadata": {
    "colab": {
      "name": "BreastCancerData_LogisticRegression.ipynb",
      "provenance": [],
      "collapsed_sections": [],
      "authorship_tag": "ABX9TyNqwmXBUmHRzMGUWSB766ba",
      "include_colab_link": true
    },
    "kernelspec": {
      "name": "python3",
      "display_name": "Python 3"
    }
  },
  "cells": [
    {
      "cell_type": "markdown",
      "metadata": {
        "id": "view-in-github",
        "colab_type": "text"
      },
      "source": [
        "<a href=\"https://colab.research.google.com/github/bharathulaprasad/Assignment_06/blob/main/BreastCancerData_LogisticRegression.ipynb\" target=\"_parent\"><img src=\"https://colab.research.google.com/assets/colab-badge.svg\" alt=\"Open In Colab\"/></a>"
      ]
    },
    {
      "cell_type": "code",
      "metadata": {
        "colab": {
          "base_uri": "https://localhost:8080/"
        },
        "id": "C6p9kiVi5W7g",
        "outputId": "50c11d7d-7131-4115-82f4-568b1ddc7f0b"
      },
      "source": [
        "import numpy as np # linear algebra\r\n",
        "import pandas as pd # data processing\r\n",
        "from sklearn.model_selection import train_test_split\r\n",
        "!pip install pydataset\r\n",
        "!pip install sns\r\n",
        "from pydataset import data\r\n",
        "from sklearn.datasets import load_breast_cancer\r\n",
        "from sklearn.metrics import accuracy_score, recall_score, roc_auc_score, confusion_matrix\r\n",
        "from sklearn.linear_model import LogisticRegression\r\n",
        "from sklearn.feature_selection import RFE\r\n",
        "from sklearn.metrics import confusion_matrix\r\n",
        "import matplotlib.pyplot as plt\r\n",
        "\r\n",
        "cancerdata = load_breast_cancer()\r\n",
        "print(cancerdata.DESCR)\r\n",
        "\r\n",
        "\r\n",
        "\r\n"
      ],
      "execution_count": null,
      "outputs": [
        {
          "output_type": "stream",
          "text": [
            "Requirement already satisfied: pydataset in /usr/local/lib/python3.7/dist-packages (0.2.0)\n",
            "Requirement already satisfied: pandas in /usr/local/lib/python3.7/dist-packages (from pydataset) (1.1.5)\n",
            "Requirement already satisfied: pytz>=2017.2 in /usr/local/lib/python3.7/dist-packages (from pandas->pydataset) (2018.9)\n",
            "Requirement already satisfied: python-dateutil>=2.7.3 in /usr/local/lib/python3.7/dist-packages (from pandas->pydataset) (2.8.1)\n",
            "Requirement already satisfied: numpy>=1.15.4 in /usr/local/lib/python3.7/dist-packages (from pandas->pydataset) (1.19.5)\n",
            "Requirement already satisfied: six>=1.5 in /usr/local/lib/python3.7/dist-packages (from python-dateutil>=2.7.3->pandas->pydataset) (1.15.0)\n",
            "Collecting sns\n",
            "  Downloading https://files.pythonhosted.org/packages/58/80/d5a2a12fae635474014e7e0c88959daab3bf815648250fbb7639dd02fe50/sns-0.1.tar.gz\n",
            "Building wheels for collected packages: sns\n",
            "  Building wheel for sns (setup.py) ... \u001b[?25l\u001b[?25hdone\n",
            "  Created wheel for sns: filename=sns-0.1-cp37-none-any.whl size=2664 sha256=49a00ca0fb6e52a03db843497bdf369e7d7f6f1c4ede1df49f394163c15db349\n",
            "  Stored in directory: /root/.cache/pip/wheels/be/a5/d8/4390400ed430c8186a6af96dbb1cc7d0a00a5dee15d268b627\n",
            "Successfully built sns\n",
            "Installing collected packages: sns\n",
            "Successfully installed sns-0.1\n",
            ".. _breast_cancer_dataset:\n",
            "\n",
            "Breast cancer wisconsin (diagnostic) dataset\n",
            "--------------------------------------------\n",
            "\n",
            "**Data Set Characteristics:**\n",
            "\n",
            "    :Number of Instances: 569\n",
            "\n",
            "    :Number of Attributes: 30 numeric, predictive attributes and the class\n",
            "\n",
            "    :Attribute Information:\n",
            "        - radius (mean of distances from center to points on the perimeter)\n",
            "        - texture (standard deviation of gray-scale values)\n",
            "        - perimeter\n",
            "        - area\n",
            "        - smoothness (local variation in radius lengths)\n",
            "        - compactness (perimeter^2 / area - 1.0)\n",
            "        - concavity (severity of concave portions of the contour)\n",
            "        - concave points (number of concave portions of the contour)\n",
            "        - symmetry \n",
            "        - fractal dimension (\"coastline approximation\" - 1)\n",
            "\n",
            "        The mean, standard error, and \"worst\" or largest (mean of the three\n",
            "        largest values) of these features were computed for each image,\n",
            "        resulting in 30 features.  For instance, field 3 is Mean Radius, field\n",
            "        13 is Radius SE, field 23 is Worst Radius.\n",
            "\n",
            "        - class:\n",
            "                - WDBC-Malignant\n",
            "                - WDBC-Benign\n",
            "\n",
            "    :Summary Statistics:\n",
            "\n",
            "    ===================================== ====== ======\n",
            "                                           Min    Max\n",
            "    ===================================== ====== ======\n",
            "    radius (mean):                        6.981  28.11\n",
            "    texture (mean):                       9.71   39.28\n",
            "    perimeter (mean):                     43.79  188.5\n",
            "    area (mean):                          143.5  2501.0\n",
            "    smoothness (mean):                    0.053  0.163\n",
            "    compactness (mean):                   0.019  0.345\n",
            "    concavity (mean):                     0.0    0.427\n",
            "    concave points (mean):                0.0    0.201\n",
            "    symmetry (mean):                      0.106  0.304\n",
            "    fractal dimension (mean):             0.05   0.097\n",
            "    radius (standard error):              0.112  2.873\n",
            "    texture (standard error):             0.36   4.885\n",
            "    perimeter (standard error):           0.757  21.98\n",
            "    area (standard error):                6.802  542.2\n",
            "    smoothness (standard error):          0.002  0.031\n",
            "    compactness (standard error):         0.002  0.135\n",
            "    concavity (standard error):           0.0    0.396\n",
            "    concave points (standard error):      0.0    0.053\n",
            "    symmetry (standard error):            0.008  0.079\n",
            "    fractal dimension (standard error):   0.001  0.03\n",
            "    radius (worst):                       7.93   36.04\n",
            "    texture (worst):                      12.02  49.54\n",
            "    perimeter (worst):                    50.41  251.2\n",
            "    area (worst):                         185.2  4254.0\n",
            "    smoothness (worst):                   0.071  0.223\n",
            "    compactness (worst):                  0.027  1.058\n",
            "    concavity (worst):                    0.0    1.252\n",
            "    concave points (worst):               0.0    0.291\n",
            "    symmetry (worst):                     0.156  0.664\n",
            "    fractal dimension (worst):            0.055  0.208\n",
            "    ===================================== ====== ======\n",
            "\n",
            "    :Missing Attribute Values: None\n",
            "\n",
            "    :Class Distribution: 212 - Malignant, 357 - Benign\n",
            "\n",
            "    :Creator:  Dr. William H. Wolberg, W. Nick Street, Olvi L. Mangasarian\n",
            "\n",
            "    :Donor: Nick Street\n",
            "\n",
            "    :Date: November, 1995\n",
            "\n",
            "This is a copy of UCI ML Breast Cancer Wisconsin (Diagnostic) datasets.\n",
            "https://goo.gl/U2Uwz2\n",
            "\n",
            "Features are computed from a digitized image of a fine needle\n",
            "aspirate (FNA) of a breast mass.  They describe\n",
            "characteristics of the cell nuclei present in the image.\n",
            "\n",
            "Separating plane described above was obtained using\n",
            "Multisurface Method-Tree (MSM-T) [K. P. Bennett, \"Decision Tree\n",
            "Construction Via Linear Programming.\" Proceedings of the 4th\n",
            "Midwest Artificial Intelligence and Cognitive Science Society,\n",
            "pp. 97-101, 1992], a classification method which uses linear\n",
            "programming to construct a decision tree.  Relevant features\n",
            "were selected using an exhaustive search in the space of 1-4\n",
            "features and 1-3 separating planes.\n",
            "\n",
            "The actual linear program used to obtain the separating plane\n",
            "in the 3-dimensional space is that described in:\n",
            "[K. P. Bennett and O. L. Mangasarian: \"Robust Linear\n",
            "Programming Discrimination of Two Linearly Inseparable Sets\",\n",
            "Optimization Methods and Software 1, 1992, 23-34].\n",
            "\n",
            "This database is also available through the UW CS ftp server:\n",
            "\n",
            "ftp ftp.cs.wisc.edu\n",
            "cd math-prog/cpo-dataset/machine-learn/WDBC/\n",
            "\n",
            ".. topic:: References\n",
            "\n",
            "   - W.N. Street, W.H. Wolberg and O.L. Mangasarian. Nuclear feature extraction \n",
            "     for breast tumor diagnosis. IS&T/SPIE 1993 International Symposium on \n",
            "     Electronic Imaging: Science and Technology, volume 1905, pages 861-870,\n",
            "     San Jose, CA, 1993.\n",
            "   - O.L. Mangasarian, W.N. Street and W.H. Wolberg. Breast cancer diagnosis and \n",
            "     prognosis via linear programming. Operations Research, 43(4), pages 570-577, \n",
            "     July-August 1995.\n",
            "   - W.H. Wolberg, W.N. Street, and O.L. Mangasarian. Machine learning techniques\n",
            "     to diagnose breast cancer from fine-needle aspirates. Cancer Letters 77 (1994) \n",
            "     163-171.\n"
          ],
          "name": "stdout"
        }
      ]
    },
    {
      "cell_type": "code",
      "metadata": {
        "colab": {
          "base_uri": "https://localhost:8080/"
        },
        "id": "KLV38t_rzgAz",
        "outputId": "5cdcbbbe-6e9a-495c-db1c-7ea664c02d96"
      },
      "source": [
        "can = pd.DataFrame(cancerdata.data,columns=cancerdata.feature_names)\r\n",
        "can['diagnosis'] = cancerdata.target\r\n",
        "can = pd.DataFrame(cancerdata.data,cancerdata.target)\r\n",
        "can.isnull().sum().sum()\r\n",
        "# This indicates no data cleaning required\r\n"
      ],
      "execution_count": null,
      "outputs": [
        {
          "output_type": "execute_result",
          "data": {
            "text/plain": [
              "0"
            ]
          },
          "metadata": {
            "tags": []
          },
          "execution_count": 11
        }
      ]
    },
    {
      "cell_type": "code",
      "metadata": {
        "colab": {
          "base_uri": "https://localhost:8080/",
          "height": 142
        },
        "id": "PMqJMLge3hLE",
        "outputId": "9f81b9ad-5f41-4aa4-b796-833b5fc34203"
      },
      "source": [
        "# estimate how many are 0 and 1 is present in target diagnosis\r\n",
        "pd.crosstab(index = cancerdata.target, columns = 'count')"
      ],
      "execution_count": null,
      "outputs": [
        {
          "output_type": "execute_result",
          "data": {
            "text/html": [
              "<div>\n",
              "<style scoped>\n",
              "    .dataframe tbody tr th:only-of-type {\n",
              "        vertical-align: middle;\n",
              "    }\n",
              "\n",
              "    .dataframe tbody tr th {\n",
              "        vertical-align: top;\n",
              "    }\n",
              "\n",
              "    .dataframe thead th {\n",
              "        text-align: right;\n",
              "    }\n",
              "</style>\n",
              "<table border=\"1\" class=\"dataframe\">\n",
              "  <thead>\n",
              "    <tr style=\"text-align: right;\">\n",
              "      <th>col_0</th>\n",
              "      <th>count</th>\n",
              "    </tr>\n",
              "    <tr>\n",
              "      <th>row_0</th>\n",
              "      <th></th>\n",
              "    </tr>\n",
              "  </thead>\n",
              "  <tbody>\n",
              "    <tr>\n",
              "      <th>0</th>\n",
              "      <td>212</td>\n",
              "    </tr>\n",
              "    <tr>\n",
              "      <th>1</th>\n",
              "      <td>357</td>\n",
              "    </tr>\n",
              "  </tbody>\n",
              "</table>\n",
              "</div>"
            ],
            "text/plain": [
              "col_0  count\n",
              "row_0       \n",
              "0        212\n",
              "1        357"
            ]
          },
          "metadata": {
            "tags": []
          },
          "execution_count": 12
        }
      ]
    },
    {
      "cell_type": "code",
      "metadata": {
        "colab": {
          "base_uri": "https://localhost:8080/"
        },
        "id": "smtQgzPC5AJb",
        "outputId": "b91851a9-8401-4a6f-b8db-770b94cd9da7"
      },
      "source": [
        "can.describe().unstack()"
      ],
      "execution_count": null,
      "outputs": [
        {
          "output_type": "execute_result",
          "data": {
            "text/plain": [
              "0   count    569.000000\n",
              "    mean      14.127292\n",
              "    std        3.524049\n",
              "    min        6.981000\n",
              "    25%       11.700000\n",
              "                ...    \n",
              "29  min        0.055040\n",
              "    25%        0.071460\n",
              "    50%        0.080040\n",
              "    75%        0.092080\n",
              "    max        0.207500\n",
              "Length: 240, dtype: float64"
            ]
          },
          "metadata": {
            "tags": []
          },
          "execution_count": 7
        }
      ]
    },
    {
      "cell_type": "code",
      "metadata": {
        "colab": {
          "base_uri": "https://localhost:8080/",
          "height": 908
        },
        "id": "vtSLV81-5I-L",
        "outputId": "bbec76ce-cbb4-4cbe-94c0-92474eafc75b"
      },
      "source": [
        "# Create correlation matrix\r\n",
        "\r\n",
        "!pip install seaborn\r\n",
        "import seaborn as sns\r\n",
        "df_features = pd.DataFrame(cancerdata.data, columns = cancerdata.feature_names)\r\n",
        "df_target = pd.DataFrame(cancerdata.target, columns=['target'])\r\n",
        "\r\n",
        "df = pd.concat([df_features, df_target], axis=1)\r\n",
        "corr_mat = df.corr()\r\n",
        "\r\n",
        "# Create mask\r\n",
        "mask = np.zeros_like(corr_mat, dtype=np.bool)\r\n",
        "mask[np.triu_indices_from(mask, k=1)] = True\r\n",
        "\r\n",
        "# Plot heatmap\r\n",
        "plt.figure(figsize=(15, 10))\r\n",
        "sns.heatmap(corr_mat[corr_mat > 0.8], annot=True, fmt='.1f',\r\n",
        "            cmap='RdBu_r', vmin=-1, vmax=1,\r\n",
        "            mask=mask)"
      ],
      "execution_count": 24,
      "outputs": [
        {
          "output_type": "stream",
          "text": [
            "Requirement already satisfied: seaborn in /usr/local/lib/python3.7/dist-packages (0.11.1)\n",
            "Requirement already satisfied: scipy>=1.0 in /usr/local/lib/python3.7/dist-packages (from seaborn) (1.4.1)\n",
            "Requirement already satisfied: matplotlib>=2.2 in /usr/local/lib/python3.7/dist-packages (from seaborn) (3.2.2)\n",
            "Requirement already satisfied: pandas>=0.23 in /usr/local/lib/python3.7/dist-packages (from seaborn) (1.1.5)\n",
            "Requirement already satisfied: numpy>=1.15 in /usr/local/lib/python3.7/dist-packages (from seaborn) (1.19.5)\n",
            "Requirement already satisfied: pyparsing!=2.0.4,!=2.1.2,!=2.1.6,>=2.0.1 in /usr/local/lib/python3.7/dist-packages (from matplotlib>=2.2->seaborn) (2.4.7)\n",
            "Requirement already satisfied: python-dateutil>=2.1 in /usr/local/lib/python3.7/dist-packages (from matplotlib>=2.2->seaborn) (2.8.1)\n",
            "Requirement already satisfied: kiwisolver>=1.0.1 in /usr/local/lib/python3.7/dist-packages (from matplotlib>=2.2->seaborn) (1.3.1)\n",
            "Requirement already satisfied: cycler>=0.10 in /usr/local/lib/python3.7/dist-packages (from matplotlib>=2.2->seaborn) (0.10.0)\n",
            "Requirement already satisfied: pytz>=2017.2 in /usr/local/lib/python3.7/dist-packages (from pandas>=0.23->seaborn) (2018.9)\n",
            "Requirement already satisfied: six>=1.5 in /usr/local/lib/python3.7/dist-packages (from python-dateutil>=2.1->matplotlib>=2.2->seaborn) (1.15.0)\n"
          ],
          "name": "stdout"
        },
        {
          "output_type": "execute_result",
          "data": {
            "text/plain": [
              "<matplotlib.axes._subplots.AxesSubplot at 0x7f744f79a590>"
            ]
          },
          "metadata": {
            "tags": []
          },
          "execution_count": 24
        },
        {
          "output_type": "display_data",
          "data": {
            "image/png": "[encoded data removed]",
            "text/plain": [
              "<Figure size 1080x720 with 2 Axes>"
            ]
          },
          "metadata": {
            "tags": [],
            "needs_background": "light"
          }
        }
      ]
    },
    {
      "cell_type": "code",
      "metadata": {
        "colab": {
          "base_uri": "https://localhost:8080/"
        },
        "id": "XUqGCjd9-lG7",
        "outputId": "a359f265-1d74-4fa8-86aa-13da3dd5628e"
      },
      "source": [
        "##I will use Univariate Feature Selection (sklearn.feature_selection.SelectKBest) \r\n",
        "##to choose 5 features with the k highest scores. \r\n",
        "##I choose 5 because from the heatmap I could see about 5 groups of features that are highly correlated.\r\n",
        "from sklearn.feature_selection import SelectKBest, chi2\r\n",
        "feature_selection = SelectKBest(chi2, k=5)\r\n",
        "feature_selection.fit(df_features, df_target)\r\n",
        "selected_features = df_features.columns[feature_selection.get_support()]\r\n",
        "print(\"The five selected features are: \", list(selected_features))"
      ],
      "execution_count": null,
      "outputs": [
        {
          "output_type": "stream",
          "text": [
            "The five selected features are:  ['mean perimeter', 'mean area', 'area error', 'worst perimeter', 'worst area']\n"
          ],
          "name": "stdout"
        }
      ]
    },
    {
      "cell_type": "code",
      "metadata": {
        "id": "SAZmm8hg-7Rz"
      },
      "source": [
        "X = pd.DataFrame(feature_selection.transform(df_features),\r\n",
        "                 columns=selected_features)\r\n",
        "X.head()"
      ],
      "execution_count": null,
      "outputs": []
    },
    {
      "cell_type": "code",
      "metadata": {
        "id": "5bERgz6loS6V"
      },
      "source": [
        "can = pd.DataFrame(cancerdata.data,columns=cancerdata.feature_names)\r\n",
        "can['diagnosis'] = cancerdata.target\r\n",
        "can.sample(5)"
      ],
      "execution_count": null,
      "outputs": []
    },
    {
      "cell_type": "code",
      "metadata": {
        "id": "_NpVCn14_Bfq"
      },
      "source": [
        "sns.pairplot(pd.concat([X, df['target']], axis=1), hue='target')"
      ],
      "execution_count": null,
      "outputs": []
    },
    {
      "cell_type": "code",
      "metadata": {
        "id": "xTPcaJj4_K9q"
      },
      "source": [
        "from sklearn.model_selection import train_test_split\r\n",
        "y = df_target['target']\r\n",
        "X_train, X_test, y_train, y_test = train_test_split(\r\n",
        "    X, y, train_size=0.10,test_size=0.90, random_state=42)"
      ],
      "execution_count": null,
      "outputs": []
    },
    {
      "cell_type": "code",
      "metadata": {
        "id": "VkaaWeoh_XqD"
      },
      "source": [
        "#Random Forest classifier\r\n",
        "from sklearn.ensemble import RandomForestClassifier\r\n",
        "rfc = RandomForestClassifier(n_estimators=200)\r\n",
        "rfc.fit(X_train, y_train)\r\n",
        "y_pred = rfc.predict(X_test)\r\n",
        "#Confusion matrix\r\n",
        "from sklearn.metrics import confusion_matrix, classification_report\r\n",
        "print(\"Confusion Matrix:\\n\", confusion_matrix(y_test, y_pred))\r\n",
        "print(\"\\n\")\r\n",
        "print(\"Classification Report:\\n\", classification_report(y_test, y_pred))"
      ],
      "execution_count": null,
      "outputs": []
    },
    {
      "cell_type": "code",
      "metadata": {
        "id": "P6VWIEHkAA2a"
      },
      "source": [
        "#PCA analysis to analyse distribution of the features\r\n",
        "from sklearn.decomposition import PCA\r\n",
        "from sklearn.preprocessing import StandardScaler\r\n",
        "\r\n",
        "scaler = StandardScaler()\r\n",
        "scaler.fit(df_features)\r\n",
        "\r\n",
        "features_scaled = scaler.transform(df_features)\r\n",
        "\r\n",
        "features_scaled = pd.DataFrame(data=features_scaled,\r\n",
        "                               columns=df_features.columns)\r\n",
        "features_scaled.head(5)\r\n",
        "df_scaled = pd.concat([features_scaled, df['target']], axis=1)\r\n",
        "X_scaled = features_scaled\r\n",
        "pca = PCA(n_components=2)\r\n",
        "pca.fit(X_scaled)\r\n",
        "X_pca = pca.transform(X_scaled)\r\n",
        "plt.figure(figsize=(8, 8))\r\n",
        "sns.scatterplot(X_pca[:, 0], X_pca[:, 1], hue=df['target'])\r\n",
        "plt.title(\"PCA\")\r\n",
        "plt.xlabel(\"First Principal Component\")\r\n",
        "plt.xlabel(\"Second Principal Component\")"
      ],
      "execution_count": null,
      "outputs": []
    },
    {
      "cell_type": "code",
      "metadata": {
        "id": "4_AA44OjodX0"
      },
      "source": [
        "X_train, X_test, y_train, y_test = train_test_split(cancerdata.data, cancerdata.target, stratify=cancerdata.target, train_size=0.10, test_size=0.90, random_state=42)\r\n",
        "log_reg = LogisticRegression(max_iter=100000)\r\n",
        "log_reg.fit(X_train, y_train)\r\n",
        "print('Accuracy on the training set: {:.3f}'.format(log_reg.score(X_train,y_train)))\r\n",
        "print('Accuracy on the training set: {:.3f}'.format(log_reg.score(X_test,y_test)))\r\n"
      ],
      "execution_count": null,
      "outputs": []
    },
    {
      "cell_type": "code",
      "metadata": {
        "id": "jbiXGxnDus_N"
      },
      "source": [
        "#drawing the graph\r\n",
        "training_accuracy = []\r\n",
        "test_accuracy = []\r\n",
        "\r\n",
        "#try log_reg for diffrent k nearest neighbor from 1 to 15\r\n",
        "neighbors_setting = range(1,15)\r\n",
        "\r\n",
        "for n_neighbors in neighbors_setting:\r\n",
        "    log_reg = LogisticRegression(max_iter=100000)\r\n",
        "    log_reg.fit(X_train,y_train)\r\n",
        "    training_accuracy.append(log_reg.score(X_train, y_train))\r\n",
        "    test_accuracy.append(log_reg.score(X_test, y_test))\r\n",
        " \r\n",
        "plt.plot(neighbors_setting,training_accuracy, label='Accuracy of the training set')\r\n",
        "plt.plot(neighbors_setting,test_accuracy, label='Accuracy of the test set')\r\n",
        "plt.ylabel('Accuracy')\r\n",
        "plt.xlabel('Number of Neighbors')\r\n",
        "plt.legend()"
      ],
      "execution_count": null,
      "outputs": []
    },
    {
      "cell_type": "code",
      "metadata": {
        "id": "trxP5J7IvSuZ"
      },
      "source": [
        "X_train, X_test, y_train, y_test = train_test_split(cancerdata.data, cancerdata.target, stratify=cancerdata.target, train_size=0.20, test_size=0.80, random_state=42)\r\n",
        "log_reg = LogisticRegression(max_iter=100000)\r\n",
        "log_reg.fit(X_train, y_train)\r\n",
        "print('Accuracy on the training set: {:.3f}'.format(log_reg.score(X_train,y_train)))\r\n",
        "print('Accuracy on the training set: {:.3f}'.format(log_reg.score(X_test,y_test)))\r\n",
        "training_accuracy = []\r\n",
        "test_accuracy = []\r\n",
        "\r\n",
        "#try log_reg for diffrent k nearest neighbor from 1 to 15\r\n",
        "neighbors_setting = range(1,15)\r\n",
        "\r\n",
        "for n_neighbors in neighbors_setting:\r\n",
        "    log_reg = LogisticRegression(max_iter=100000)\r\n",
        "    log_reg.fit(X_train,y_train)\r\n",
        "    training_accuracy.append(log_reg.score(X_train, y_train))\r\n",
        "    test_accuracy.append(log_reg.score(X_test, y_test))\r\n",
        " \r\n",
        "plt.plot(neighbors_setting,training_accuracy, label='Accuracy of the training set')\r\n",
        "plt.plot(neighbors_setting,test_accuracy, label='Accuracy of the test set')\r\n",
        "plt.ylabel('Accuracy')\r\n",
        "plt.xlabel('Number of Neighbors')\r\n",
        "plt.legend()"
      ],
      "execution_count": null,
      "outputs": []
    },
    {
      "cell_type": "code",
      "metadata": {
        "id": "MwDFKesuvflx"
      },
      "source": [
        "X_train, X_test, y_train, y_test = train_test_split(cancerdata.data, cancerdata.target, stratify=cancerdata.target, train_size=0.30, test_size=0.70, random_state=42)\r\n",
        "log_reg = LogisticRegression(max_iter=100000)\r\n",
        "log_reg.fit(X_train, y_train)\r\n",
        "print('Accuracy on the training set: {:.3f}'.format(log_reg.score(X_train,y_train)))\r\n",
        "print('Accuracy on the training set: {:.3f}'.format(log_reg.score(X_test,y_test)))\r\n",
        "training_accuracy = []\r\n",
        "test_accuracy = []\r\n",
        "\r\n",
        "#try log_reg for diffrent k nearest neighbor from 1 to 15\r\n",
        "neighbors_setting = range(1,15)\r\n",
        "\r\n",
        "for n_neighbors in neighbors_setting:\r\n",
        "    log_reg = LogisticRegression(max_iter=100000)\r\n",
        "    log_reg.fit(X_train,y_train)\r\n",
        "    training_accuracy.append(log_reg.score(X_train, y_train))\r\n",
        "    test_accuracy.append(log_reg.score(X_test, y_test))\r\n",
        " \r\n",
        "plt.plot(neighbors_setting,training_accuracy, label='Accuracy of the training set')\r\n",
        "plt.plot(neighbors_setting,test_accuracy, label='Accuracy of the test set')\r\n",
        "plt.ylabel('Accuracy')\r\n",
        "plt.xlabel('Number of Neighbors')\r\n",
        "plt.legend()"
      ],
      "execution_count": null,
      "outputs": []
    },
    {
      "cell_type": "code",
      "metadata": {
        "id": "pSeEXq2SvmCS"
      },
      "source": [
        "X_train, X_test, y_train, y_test = train_test_split(cancerdata.data, cancerdata.target, stratify=cancerdata.target, train_size=0.40, test_size=0.60, random_state=42)\r\n",
        "log_reg = LogisticRegression(max_iter=100000)\r\n",
        "log_reg.fit(X_train, y_train)\r\n",
        "print('Accuracy on the training set: {:.3f}'.format(log_reg.score(X_train,y_train)))\r\n",
        "print('Accuracy on the training set: {:.3f}'.format(log_reg.score(X_test,y_test)))\r\n",
        "training_accuracy = []\r\n",
        "test_accuracy = []\r\n",
        "\r\n",
        "#try log_reg for diffrent k nearest neighbor from 1 to 15\r\n",
        "neighbors_setting = range(1,15)\r\n",
        "\r\n",
        "for n_neighbors in neighbors_setting:\r\n",
        "    log_reg = LogisticRegression(max_iter=100000)\r\n",
        "    log_reg.fit(X_train,y_train)\r\n",
        "    training_accuracy.append(log_reg.score(X_train, y_train))\r\n",
        "    test_accuracy.append(log_reg.score(X_test, y_test))\r\n",
        " \r\n",
        "plt.plot(neighbors_setting,training_accuracy, label='Accuracy of the training set')\r\n",
        "plt.plot(neighbors_setting,test_accuracy, label='Accuracy of the test set')\r\n",
        "plt.ylabel('Accuracy')\r\n",
        "plt.xlabel('Number of Neighbors')\r\n",
        "plt.legend()"
      ],
      "execution_count": null,
      "outputs": []
    },
    {
      "cell_type": "code",
      "metadata": {
        "id": "YB6Mj-VbvsoB"
      },
      "source": [
        "X_train, X_test, y_train, y_test = train_test_split(cancerdata.data, cancerdata.target, stratify=cancerdata.target, train_size=0.50, test_size=0.50, random_state=42)\r\n",
        "log_reg = LogisticRegression(max_iter=100000)\r\n",
        "log_reg.fit(X_train, y_train)\r\n",
        "print('Accuracy on the training set: {:.3f}'.format(log_reg.score(X_train,y_train)))\r\n",
        "print('Accuracy on the training set: {:.3f}'.format(log_reg.score(X_test,y_test)))\r\n",
        "training_accuracy = []\r\n",
        "test_accuracy = []\r\n",
        "\r\n",
        "#try log_reg for diffrent k nearest neighbor from 1 to 15\r\n",
        "neighbors_setting = range(1,15)\r\n",
        "\r\n",
        "for n_neighbors in neighbors_setting:\r\n",
        "    log_reg = LogisticRegression(max_iter=100000)\r\n",
        "    log_reg.fit(X_train,y_train)\r\n",
        "    training_accuracy.append(log_reg.score(X_train, y_train))\r\n",
        "    test_accuracy.append(log_reg.score(X_test, y_test))\r\n",
        " \r\n",
        "plt.plot(neighbors_setting,training_accuracy, label='Accuracy of the training set')\r\n",
        "plt.plot(neighbors_setting,test_accuracy, label='Accuracy of the test set')\r\n",
        "plt.ylabel('Accuracy')\r\n",
        "plt.xlabel('Number of Neighbors')\r\n",
        "plt.legend()"
      ],
      "execution_count": null,
      "outputs": []
    },
    {
      "cell_type": "code",
      "metadata": {
        "id": "CudiAU6uv1tZ"
      },
      "source": [
        "X_train, X_test, y_train, y_test = train_test_split(cancerdata.data, cancerdata.target, stratify=cancerdata.target, train_size=0.60, test_size=0.40, random_state=42)\r\n",
        "log_reg = LogisticRegression(max_iter=100000)\r\n",
        "log_reg.fit(X_train, y_train)\r\n",
        "print('Accuracy on the training set: {:.3f}'.format(log_reg.score(X_train,y_train)))\r\n",
        "print('Accuracy on the training set: {:.3f}'.format(log_reg.score(X_test,y_test)))\r\n",
        "training_accuracy = []\r\n",
        "test_accuracy = []\r\n",
        "\r\n",
        "#try log_reg for diffrent k nearest neighbor from 1 to 15\r\n",
        "neighbors_setting = range(1,15)\r\n",
        "\r\n",
        "for n_neighbors in neighbors_setting:\r\n",
        "    log_reg = LogisticRegression(max_iter=100000)\r\n",
        "    log_reg.fit(X_train,y_train)\r\n",
        "    training_accuracy.append(log_reg.score(X_train, y_train))\r\n",
        "    test_accuracy.append(log_reg.score(X_test, y_test))\r\n",
        " \r\n",
        "plt.plot(neighbors_setting,training_accuracy, label='Accuracy of the training set')\r\n",
        "plt.plot(neighbors_setting,test_accuracy, label='Accuracy of the test set')\r\n",
        "plt.ylabel('Accuracy')\r\n",
        "plt.xlabel('Number of Neighbors')\r\n",
        "plt.legend()"
      ],
      "execution_count": null,
      "outputs": []
    },
    {
      "cell_type": "code",
      "metadata": {
        "id": "KohvEsUBwbDM"
      },
      "source": [
        "#Feature importance\r\n",
        "from sklearn.ensemble import RandomForestClassifier\r\n",
        "X_train, X_test, y_train, y_test = train_test_split(cancerdata.data, cancerdata.target, random_state=0)\r\n",
        "\r\n",
        "forest = RandomForestClassifier(n_estimators=100, random_state=0)\r\n",
        "forest.fit(X_train,y_train)\r\n",
        "\r\n",
        "n_feature = cancerdata.data.shape[1]\r\n",
        "plt.barh(range(n_feature), forest.feature_importances_, align='center')\r\n",
        "plt.yticks(np.arange(n_feature), cancerdata.feature_names)\r\n",
        "plt.xlabel('Feature Importance')\r\n",
        "plt.ylabel('Feature')\r\n",
        "plt.show()"
      ],
      "execution_count": null,
      "outputs": []
    },
    {
      "cell_type": "code",
      "metadata": {
        "id": "jIeKhcHDxgnq"
      },
      "source": [
        "#----------------- Decision Tree\r\n",
        "from sklearn.tree import DecisionTreeClassifier        #Decision Tree\r\n",
        "X_train, X_test, y_train, y_test = train_test_split(cancerdata.data, cancerdata.target, random_state=42)\r\n",
        "\r\n",
        "training_accuracy = []\r\n",
        "test_accuracy = []\r\n",
        "\r\n",
        "max_dep = range(1,15)\r\n",
        "\r\n",
        "for md in max_dep:\r\n",
        "    tree = DecisionTreeClassifier(max_depth=md,random_state=0)\r\n",
        "    tree.fit(X_train,y_train)\r\n",
        "    training_accuracy.append(tree.score(X_train, y_train))\r\n",
        "    test_accuracy.append(tree.score(X_test, y_test))\r\n",
        " \r\n",
        "plt.plot(max_dep,training_accuracy, label='Accuracy of the training set')\r\n",
        "plt.plot(neighbors_setting,test_accuracy, label='Accuracy of the test set')\r\n",
        "plt.ylabel('Accuracy')\r\n",
        "plt.xlabel('Max Depth')\r\n",
        "plt.legend()"
      ],
      "execution_count": null,
      "outputs": []
    }
  ]
}